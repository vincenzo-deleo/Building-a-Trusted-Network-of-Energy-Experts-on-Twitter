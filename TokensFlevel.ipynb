{
 "cells": [
  {
   "cell_type": "code",
   "execution_count": 1,
   "metadata": {},
   "outputs": [],
   "source": [
    "import pandas as pd"
   ]
  },
  {
   "cell_type": "code",
   "execution_count": 31,
   "metadata": {},
   "outputs": [],
   "source": [
    "from stop_words import get_stop_words"
   ]
  },
  {
   "cell_type": "code",
   "execution_count": 32,
   "metadata": {},
   "outputs": [],
   "source": [
    "stopit = get_stop_words('it')\n",
    "stopen = get_stop_words('en')"
   ]
  },
  {
   "cell_type": "code",
   "execution_count": 7,
   "metadata": {},
   "outputs": [],
   "source": [
    "df = pd.read_json(\"friends_1st_level.json\", orient='records',lines=False)"
   ]
  },
  {
   "cell_type": "code",
   "execution_count": 8,
   "metadata": {},
   "outputs": [
    {
     "data": {
      "text/plain": [
       "user_screen_name    14940\n",
       "screen_name         14940\n",
       "location            14940\n",
       "friends_count       14940\n",
       "listed_count        14940\n",
       "followers_count     14940\n",
       "created_at          14940\n",
       "lang                    0\n",
       "statuses_count      14940\n",
       "description         14940\n",
       "dtype: int64"
      ]
     },
     "execution_count": 8,
     "metadata": {},
     "output_type": "execute_result"
    }
   ],
   "source": [
    "df.count()"
   ]
  },
  {
   "cell_type": "code",
   "execution_count": 18,
   "metadata": {},
   "outputs": [],
   "source": [
    "from nltk.tokenize import WordPunctTokenizer\n",
    "from nltk.tokenize import TweetTokenizer"
   ]
  },
  {
   "cell_type": "code",
   "execution_count": 19,
   "metadata": {},
   "outputs": [],
   "source": [
    "tknz = TweetTokenizer()"
   ]
  },
  {
   "cell_type": "code",
   "execution_count": 33,
   "metadata": {},
   "outputs": [],
   "source": [
    "words = []\n",
    "for t in df.description.values:\n",
    "    toks = tknz.tokenize(t)\n",
    "    for t in toks:\n",
    "        tl = t.lower()\n",
    "        tl = tl.replace(\"#\",\"\")\n",
    "        if(not tl.startswith(\"@\")):\n",
    "            if(len(tl) > 2 and tl not in stopit and tl not in stopen):\n",
    "                words.append(tl)\n",
    "    "
   ]
  },
  {
   "cell_type": "code",
   "execution_count": 34,
   "metadata": {},
   "outputs": [],
   "source": [
    "from nltk import FreqDist"
   ]
  },
  {
   "cell_type": "code",
   "execution_count": 35,
   "metadata": {},
   "outputs": [],
   "source": [
    "fq = FreqDist(words)"
   ]
  },
  {
   "cell_type": "code",
   "execution_count": 37,
   "metadata": {},
   "outputs": [],
   "source": [
    "dfFreq = pd.DataFrame.from_dict(fq, orient='index')\n",
    "dfFreq.columns = ['counts']"
   ]
  },
  {
   "cell_type": "code",
   "execution_count": 67,
   "metadata": {},
   "outputs": [
    {
     "data": {
      "text/html": [
       "<div>\n",
       "<style scoped>\n",
       "    .dataframe tbody tr th:only-of-type {\n",
       "        vertical-align: middle;\n",
       "    }\n",
       "\n",
       "    .dataframe tbody tr th {\n",
       "        vertical-align: top;\n",
       "    }\n",
       "\n",
       "    .dataframe thead th {\n",
       "        text-align: right;\n",
       "    }\n",
       "</style>\n",
       "<table border=\"1\" class=\"dataframe\">\n",
       "  <thead>\n",
       "    <tr style=\"text-align: right;\">\n",
       "      <th></th>\n",
       "      <th>counts</th>\n",
       "    </tr>\n",
       "  </thead>\n",
       "  <tbody>\n",
       "    <tr>\n",
       "      <th>2007</th>\n",
       "      <td>26</td>\n",
       "    </tr>\n",
       "    <tr>\n",
       "      <th>protection</th>\n",
       "      <td>26</td>\n",
       "    </tr>\n",
       "    <tr>\n",
       "      <th>champion</th>\n",
       "      <td>26</td>\n",
       "    </tr>\n",
       "    <tr>\n",
       "      <th>nonprofit</th>\n",
       "      <td>26</td>\n",
       "    </tr>\n",
       "    <tr>\n",
       "      <th>copywriter</th>\n",
       "      <td>26</td>\n",
       "    </tr>\n",
       "    <tr>\n",
       "      <th>scrivere</th>\n",
       "      <td>26</td>\n",
       "    </tr>\n",
       "    <tr>\n",
       "      <th>girl</th>\n",
       "      <td>26</td>\n",
       "    </tr>\n",
       "    <tr>\n",
       "      <th>libertà</th>\n",
       "      <td>26</td>\n",
       "    </tr>\n",
       "    <tr>\n",
       "      <th>cerco</th>\n",
       "      <td>26</td>\n",
       "    </tr>\n",
       "    <tr>\n",
       "      <th>professionale</th>\n",
       "      <td>26</td>\n",
       "    </tr>\n",
       "    <tr>\n",
       "      <th>scenari</th>\n",
       "      <td>26</td>\n",
       "    </tr>\n",
       "    <tr>\n",
       "      <th>learning</th>\n",
       "      <td>26</td>\n",
       "    </tr>\n",
       "    <tr>\n",
       "      <th>creator</th>\n",
       "      <td>26</td>\n",
       "    </tr>\n",
       "    <tr>\n",
       "      <th>foundation</th>\n",
       "      <td>26</td>\n",
       "    </tr>\n",
       "    <tr>\n",
       "      <th>tools</th>\n",
       "      <td>26</td>\n",
       "    </tr>\n",
       "    <tr>\n",
       "      <th>customers</th>\n",
       "      <td>26</td>\n",
       "    </tr>\n",
       "    <tr>\n",
       "      <th>strategies</th>\n",
       "      <td>26</td>\n",
       "    </tr>\n",
       "    <tr>\n",
       "      <th>l'informazione</th>\n",
       "      <td>26</td>\n",
       "    </tr>\n",
       "    <tr>\n",
       "      <th>pubblico</th>\n",
       "      <td>26</td>\n",
       "    </tr>\n",
       "    <tr>\n",
       "      <th>commercio</th>\n",
       "      <td>26</td>\n",
       "    </tr>\n",
       "    <tr>\n",
       "      <th>salute</th>\n",
       "      <td>25</td>\n",
       "    </tr>\n",
       "    <tr>\n",
       "      <th>democratico</th>\n",
       "      <td>25</td>\n",
       "    </tr>\n",
       "    <tr>\n",
       "      <th>tweeting</th>\n",
       "      <td>25</td>\n",
       "    </tr>\n",
       "    <tr>\n",
       "      <th>est</th>\n",
       "      <td>25</td>\n",
       "    </tr>\n",
       "    <tr>\n",
       "      <th>ultimo</th>\n",
       "      <td>25</td>\n",
       "    </tr>\n",
       "    <tr>\n",
       "      <th>house</th>\n",
       "      <td>25</td>\n",
       "    </tr>\n",
       "    <tr>\n",
       "      <th>emilia</th>\n",
       "      <td>25</td>\n",
       "    </tr>\n",
       "    <tr>\n",
       "      <th>focused</th>\n",
       "      <td>25</td>\n",
       "    </tr>\n",
       "    <tr>\n",
       "      <th>direzione</th>\n",
       "      <td>25</td>\n",
       "    </tr>\n",
       "    <tr>\n",
       "      <th>confindustria</th>\n",
       "      <td>25</td>\n",
       "    </tr>\n",
       "  </tbody>\n",
       "</table>\n",
       "</div>"
      ],
      "text/plain": [
       "                counts\n",
       "2007                26\n",
       "protection          26\n",
       "champion            26\n",
       "nonprofit           26\n",
       "copywriter          26\n",
       "scrivere            26\n",
       "girl                26\n",
       "libertà             26\n",
       "cerco               26\n",
       "professionale       26\n",
       "scenari             26\n",
       "learning            26\n",
       "creator             26\n",
       "foundation          26\n",
       "tools               26\n",
       "customers           26\n",
       "strategies          26\n",
       "l'informazione      26\n",
       "pubblico            26\n",
       "commercio           26\n",
       "salute              25\n",
       "democratico         25\n",
       "tweeting            25\n",
       "est                 25\n",
       "ultimo              25\n",
       "house               25\n",
       "emilia              25\n",
       "focused             25\n",
       "direzione           25\n",
       "confindustria       25"
      ]
     },
     "execution_count": 67,
     "metadata": {},
     "output_type": "execute_result"
    }
   ],
   "source": [
    "dfFreq.sort_values(by='counts', ascending=False).head(820).tail(30)\n"
   ]
  },
  {
   "cell_type": "markdown",
   "metadata": {},
   "source": [
    "**Proposta Filtro**"
   ]
  },
  {
   "cell_type": "code",
   "execution_count": 69,
   "metadata": {},
   "outputs": [],
   "source": [
    "paroleFiltro = ['energia', 'energy', 'ambiente', 'green','innovation', 'sostenibile', 'gas', 'clean', 'wind','efficiency',\n",
    "                'environment', 'economy', 'ambientale', 'energetica', 'rinnovabile', 'rinnovabili','fotovoltaico','sostenibili',\n",
    "                'renewable', 'renewables','energie', 'environmental', 'elecricity', 'efficienza', 'solar','ecologia',\n",
    "                'water', 'risparmio','energetico','energetici', 'climate', 'climatico', 'circulareconomy','legambiente',\n",
    "                'riciclo','ecosostenibile','solare', 'termico', 'eolico', 'turbine', 'turbina','eolica']"
   ]
  },
  {
   "cell_type": "code",
   "execution_count": 70,
   "metadata": {},
   "outputs": [
    {
     "data": {
      "text/html": [
       "<div>\n",
       "<style scoped>\n",
       "    .dataframe tbody tr th:only-of-type {\n",
       "        vertical-align: middle;\n",
       "    }\n",
       "\n",
       "    .dataframe tbody tr th {\n",
       "        vertical-align: top;\n",
       "    }\n",
       "\n",
       "    .dataframe thead th {\n",
       "        text-align: right;\n",
       "    }\n",
       "</style>\n",
       "<table border=\"1\" class=\"dataframe\">\n",
       "  <thead>\n",
       "    <tr style=\"text-align: right;\">\n",
       "      <th></th>\n",
       "      <th>user_screen_name</th>\n",
       "      <th>screen_name</th>\n",
       "      <th>location</th>\n",
       "      <th>friends_count</th>\n",
       "      <th>listed_count</th>\n",
       "      <th>followers_count</th>\n",
       "      <th>created_at</th>\n",
       "      <th>lang</th>\n",
       "      <th>statuses_count</th>\n",
       "      <th>description</th>\n",
       "    </tr>\n",
       "  </thead>\n",
       "  <tbody>\n",
       "    <tr>\n",
       "      <th>0</th>\n",
       "      <td>GruppoHera</td>\n",
       "      <td>andreacreativo</td>\n",
       "      <td>Roma, Lazio</td>\n",
       "      <td>4800</td>\n",
       "      <td>1280</td>\n",
       "      <td>9481</td>\n",
       "      <td>2010-06-01 10:43:33+00:00</td>\n",
       "      <td>NaN</td>\n",
       "      <td>42179</td>\n",
       "      <td>Scrivo, leggo e twitto di #StartUp #Industria4...</td>\n",
       "    </tr>\n",
       "    <tr>\n",
       "      <th>1</th>\n",
       "      <td>GruppoHera</td>\n",
       "      <td>reportingMerola</td>\n",
       "      <td></td>\n",
       "      <td>3309</td>\n",
       "      <td>119</td>\n",
       "      <td>1628</td>\n",
       "      <td>2013-11-23 14:20:48+00:00</td>\n",
       "      <td>NaN</td>\n",
       "      <td>1919</td>\n",
       "      <td>Journalist, Communication manager @WSENSE_IoUT...</td>\n",
       "    </tr>\n",
       "    <tr>\n",
       "      <th>2</th>\n",
       "      <td>GruppoHera</td>\n",
       "      <td>UN_Water</td>\n",
       "      <td></td>\n",
       "      <td>2557</td>\n",
       "      <td>1321</td>\n",
       "      <td>74188</td>\n",
       "      <td>2010-11-16 13:57:19+00:00</td>\n",
       "      <td>NaN</td>\n",
       "      <td>20828</td>\n",
       "      <td>United Nations Water: Coordinates the UN’s wor...</td>\n",
       "    </tr>\n",
       "    <tr>\n",
       "      <th>3</th>\n",
       "      <td>GruppoHera</td>\n",
       "      <td>la_Biennale</td>\n",
       "      <td>Venice, Italy</td>\n",
       "      <td>5348</td>\n",
       "      <td>3220</td>\n",
       "      <td>707046</td>\n",
       "      <td>2010-03-13 17:52:46+00:00</td>\n",
       "      <td>NaN</td>\n",
       "      <td>23507</td>\n",
       "      <td>Official Twitter page of La Biennale di Venezi...</td>\n",
       "    </tr>\n",
       "    <tr>\n",
       "      <th>4</th>\n",
       "      <td>GruppoHera</td>\n",
       "      <td>VitodeCeglia</td>\n",
       "      <td></td>\n",
       "      <td>59</td>\n",
       "      <td>5</td>\n",
       "      <td>91</td>\n",
       "      <td>2011-12-16 14:56:06+00:00</td>\n",
       "      <td>NaN</td>\n",
       "      <td>91</td>\n",
       "      <td></td>\n",
       "    </tr>\n",
       "  </tbody>\n",
       "</table>\n",
       "</div>"
      ],
      "text/plain": [
       "  user_screen_name      screen_name       location  friends_count  \\\n",
       "0       GruppoHera   andreacreativo    Roma, Lazio           4800   \n",
       "1       GruppoHera  reportingMerola                          3309   \n",
       "2       GruppoHera         UN_Water                          2557   \n",
       "3       GruppoHera      la_Biennale  Venice, Italy           5348   \n",
       "4       GruppoHera     VitodeCeglia                            59   \n",
       "\n",
       "   listed_count  followers_count                created_at  lang  \\\n",
       "0          1280             9481 2010-06-01 10:43:33+00:00   NaN   \n",
       "1           119             1628 2013-11-23 14:20:48+00:00   NaN   \n",
       "2          1321            74188 2010-11-16 13:57:19+00:00   NaN   \n",
       "3          3220           707046 2010-03-13 17:52:46+00:00   NaN   \n",
       "4             5               91 2011-12-16 14:56:06+00:00   NaN   \n",
       "\n",
       "   statuses_count                                        description  \n",
       "0           42179  Scrivo, leggo e twitto di #StartUp #Industria4...  \n",
       "1            1919  Journalist, Communication manager @WSENSE_IoUT...  \n",
       "2           20828  United Nations Water: Coordinates the UN’s wor...  \n",
       "3           23507  Official Twitter page of La Biennale di Venezi...  \n",
       "4              91                                                     "
      ]
     },
     "execution_count": 70,
     "metadata": {},
     "output_type": "execute_result"
    }
   ],
   "source": [
    "df.head()"
   ]
  },
  {
   "cell_type": "markdown",
   "metadata": {},
   "source": [
    "**Filtro Utenti**"
   ]
  },
  {
   "cell_type": "code",
   "execution_count": 116,
   "metadata": {},
   "outputs": [],
   "source": [
    "energies = []\n",
    "for i,t in enumerate(df.description.values):\n",
    "    toks = tknz.tokenize(t)\n",
    "    e = 0\n",
    "    for t in toks:\n",
    "        tl = t.lower()\n",
    "        if(tl in paroleFiltro ):\n",
    "            e = 1\n",
    "    if(e):\n",
    "        energies.append(e)\n",
    "    else:\n",
    "        energies.append(e)"
   ]
  },
  {
   "cell_type": "code",
   "execution_count": 117,
   "metadata": {},
   "outputs": [
    {
     "data": {
      "text/plain": [
       "14940"
      ]
     },
     "execution_count": 117,
     "metadata": {},
     "output_type": "execute_result"
    }
   ],
   "source": [
    "len(df)"
   ]
  },
  {
   "cell_type": "code",
   "execution_count": 118,
   "metadata": {},
   "outputs": [
    {
     "data": {
      "text/plain": [
       "14940"
      ]
     },
     "execution_count": 118,
     "metadata": {},
     "output_type": "execute_result"
    }
   ],
   "source": [
    "len(energies)"
   ]
  },
  {
   "cell_type": "code",
   "execution_count": 119,
   "metadata": {},
   "outputs": [],
   "source": [
    "df = df.assign(energy = energies)"
   ]
  },
  {
   "cell_type": "code",
   "execution_count": 121,
   "metadata": {},
   "outputs": [],
   "source": [
    "dfe = df[df.energy == 1]"
   ]
  },
  {
   "cell_type": "code",
   "execution_count": 123,
   "metadata": {},
   "outputs": [],
   "source": [
    "dfe.to_csv(\"EnergyFirstLevel.csv\", index = False)"
   ]
  },
  {
   "cell_type": "code",
   "execution_count": 124,
   "metadata": {},
   "outputs": [
    {
     "data": {
      "text/plain": [
       "2039"
      ]
     },
     "execution_count": 124,
     "metadata": {},
     "output_type": "execute_result"
    }
   ],
   "source": [
    "len(dfe)"
   ]
  },
  {
   "cell_type": "code",
   "execution_count": 84,
   "metadata": {},
   "outputs": [],
   "source": [
    "df = df.assign(label = \"no\")"
   ]
  },
  {
   "cell_type": "code",
   "execution_count": 85,
   "metadata": {},
   "outputs": [],
   "source": [
    "ndf = df[['description','label']]"
   ]
  },
  {
   "cell_type": "code",
   "execution_count": 86,
   "metadata": {},
   "outputs": [],
   "source": [
    "ndf = ndf.assign(text = ndf.description)"
   ]
  },
  {
   "cell_type": "code",
   "execution_count": 87,
   "metadata": {},
   "outputs": [],
   "source": [
    "ndf = ndf[['text','label']]"
   ]
  },
  {
   "cell_type": "code",
   "execution_count": 93,
   "metadata": {},
   "outputs": [],
   "source": [
    "ndf = ndf.assign(text = ndf.text.str.replace(\"\\n+\", \" \", regex=True))"
   ]
  },
  {
   "cell_type": "code",
   "execution_count": 98,
   "metadata": {},
   "outputs": [],
   "source": [
    "def getL(s):\n",
    "    return len(s)"
   ]
  },
  {
   "cell_type": "code",
   "execution_count": 99,
   "metadata": {},
   "outputs": [],
   "source": [
    "ndf = ndf.assign(lr = ndf.text.apply(getL))"
   ]
  },
  {
   "cell_type": "code",
   "execution_count": 101,
   "metadata": {},
   "outputs": [],
   "source": [
    "ndfne = ndf[ndf.lr > 0]"
   ]
  },
  {
   "cell_type": "code",
   "execution_count": 105,
   "metadata": {},
   "outputs": [],
   "source": [
    "ndfne = ndfne[['text', 'label']]"
   ]
  },
  {
   "cell_type": "code",
   "execution_count": 106,
   "metadata": {},
   "outputs": [],
   "source": [
    "ndfne.to_csv(\"OnlyDescriptions.csv\", index=False)"
   ]
  },
  {
   "cell_type": "code",
   "execution_count": 108,
   "metadata": {},
   "outputs": [],
   "source": [
    "ndfne = ndfne.assign(text = ndfne.text.str.replace('\"', \" \", regex=True))\n",
    "ndfne = ndfne.assign(text = ndfne.text.str.replace(\"'\", \" \", regex=True))"
   ]
  },
  {
   "cell_type": "code",
   "execution_count": 109,
   "metadata": {},
   "outputs": [
    {
     "name": "stderr",
     "output_type": "stream",
     "text": [
      "/opt/conda/lib/python3.7/site-packages/ipykernel_launcher.py:1: FutureWarning: The signature of `Series.to_csv` was aligned to that of `DataFrame.to_csv`, and argument 'header' will change its default value from False to True: please pass an explicit value to suppress this warning.\n",
      "  \"\"\"Entry point for launching an IPython kernel.\n"
     ]
    }
   ],
   "source": [
    "ndfne.text.to_csv(\"OnlyDescriptions.txt\", index=False, )"
   ]
  },
  {
   "cell_type": "code",
   "execution_count": 111,
   "metadata": {},
   "outputs": [],
   "source": [
    "ndfne.to_json(\"TD.json\", lines=True, orient=\"records\")"
   ]
  },
  {
   "cell_type": "code",
   "execution_count": 95,
   "metadata": {},
   "outputs": [],
   "source": [
    "ndf.to_excel(\"OnlyDescriptions.xlsx\", index=False)"
   ]
  },
  {
   "cell_type": "code",
   "execution_count": null,
   "metadata": {},
   "outputs": [],
   "source": []
  }
 ],
 "metadata": {
  "kernelspec": {
   "display_name": "Python 3",
   "language": "python",
   "name": "python3"
  },
  "language_info": {
   "codemirror_mode": {
    "name": "ipython",
    "version": 3
   },
   "file_extension": ".py",
   "mimetype": "text/x-python",
   "name": "python",
   "nbconvert_exporter": "python",
   "pygments_lexer": "ipython3",
   "version": "3.7.6"
  }
 },
 "nbformat": 4,
 "nbformat_minor": 4
}
